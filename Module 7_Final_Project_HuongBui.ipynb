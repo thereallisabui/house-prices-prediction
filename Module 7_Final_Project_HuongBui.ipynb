{
 "cells": [
  {
   "attachments": {},
   "cell_type": "markdown",
   "metadata": {},
   "source": [
    "# A Model to Predict Housing Prices\n",
    "\n",
    "**Huong Bui**\n"
   ]
  },
  {
   "attachments": {},
   "cell_type": "markdown",
   "metadata": {},
   "source": [
    "# Index\n",
    "\n",
    "- [Abstract](#Abstract)\n",
    "- [1. Introduction](#1.-Introduction)\n",
    "- [2. The Data](#2-the-data)\n",
    "    - [2.1 Import the Data](#2.1-Import-the-Data)\n",
    "    - [2.2 Data Exploration](#2.2-Data-Exploration)\n",
    "    - [2.3 Data Preparation](#2.3-Data-Preparation)\n",
    "    - [2.4 Correlation](#2.4-Correlation)\n",
    "- [3. Project Description](#3.-Project-Description)\n",
    "    - [3.1 Linear Regression](#3.1-Linear-Regression)\n",
    "    - [3.2 Analysis](#3.2-Analysis)\n",
    "    - [3.3 Results](#3.3-Results)\n",
    "    - [3.4 Verify Your Model Against Test Data](#3.4-Verify-Your-Model-Against-Test-Data)\n",
    "- [Conclusion](#Conclusion)\n",
    "- [References](#References)"
   ]
  },
  {
   "attachments": {},
   "cell_type": "markdown",
   "metadata": {},
   "source": [
    "[Back to top](#Index)\n",
    "\n",
    "##  Abstract <a class=\"anchor\" id=\"Abstract\"></a>\n",
    "\n",
    "In this project, our goal was to develop an accurate house price prediction model through a structured approach. After delving into data exploration and evaluating the distribution of the target variable, we examine variable correlations with a keen eye on variables exhibiting substantial links to the target. We rectified missing values through data cleaning and selected the features. Leveraging scikit-learn, we trained linear regression models, evaluating their accuracy using R-squared and scatter plots. Additionally, we conducted a comparative analysis of models with diverse feature sets, discovering their influence on accuracy, and fine-tuning both variables and model performance."
   ]
  },
  {
   "attachments": {},
   "cell_type": "markdown",
   "metadata": {},
   "source": [
    "[Back to top](#Index)\n",
    "\n",
    "\n",
    "## 1. Introduction <a class=“anchor” id=“1.-Introduction”></a>\n",
    "\n",
    "The process of building our house price prediction model involves several steps. We initiated by understanding the dataset, exploring variable types, and gauging the distribution of the target variable 'SalePrice'. The subsequent steps encompassed investigating correlations between various independent variables and the target.\n",
    "\n",
    "We then executed data cleaning, effectively handling missing values and ensuring data integrity. Feature selection is a crucial step, where we identified influential variables that would contribute significantly to our model's predictive power. Utilizing the scikit-learn library, we implemented and trained linear regression models, aiming to capture underlying relationships between independent and dependent variables.\n",
    "\n",
    "Evaluation of model performance entailed metrics like the R-squared value and visualizations like scatter plots to gauge the accuracy of our predictions. We took it a step further by exploring how different subsets of independent variables influenced model outcomes. This process allowed us to compare and fine-tune our model.\n",
    "\n",
    "Our project journey signifies a blend of data preprocessing, exploratory analysis, model creation, evaluation, and refinement. This comprehensive approach aimed to create a prediction model that accurately forecasts house prices based on insights derived from the data's intricate patterns."
   ]
  },
  {
   "attachments": {},
   "cell_type": "markdown",
   "metadata": {},
   "source": [
    "[Back to top](#Index)\n",
    "\n",
    "## 2. The Data <a class=“anchor” id=“2.-The-Data”></a>"
   ]
  },
  {
   "attachments": {},
   "cell_type": "markdown",
   "metadata": {},
   "source": [
    "[Back to top](#Index)\n",
    "\n",
    "### 2.1 Import the Data <a class=“anchor” id=“2.1-Import-the-Data”></a>\n"
   ]
  },
  {
   "attachments": {},
   "cell_type": "markdown",
   "metadata": {},
   "source": [
    "Given that the dataset is stored within a CSV file, our initial step involves importing it through a pandas DataFrame. Subsequently, we will start exploring data to gain initial insights into its structure, including row and column quantities, alongside an examination of variable data types."
   ]
  },
  {
   "cell_type": "code",
   "execution_count": 1,
   "metadata": {},
   "outputs": [
    {
     "data": {
      "text/html": [
       "<div>\n",
       "<style scoped>\n",
       "    .dataframe tbody tr th:only-of-type {\n",
       "        vertical-align: middle;\n",
       "    }\n",
       "\n",
       "    .dataframe tbody tr th {\n",
       "        vertical-align: top;\n",
       "    }\n",
       "\n",
       "    .dataframe thead th {\n",
       "        text-align: right;\n",
       "    }\n",
       "</style>\n",
       "<table border=\"1\" class=\"dataframe\">\n",
       "  <thead>\n",
       "    <tr style=\"text-align: right;\">\n",
       "      <th></th>\n",
       "      <th>Unnamed: 0</th>\n",
       "      <th>Id</th>\n",
       "      <th>MSSubClass</th>\n",
       "      <th>MSZoning</th>\n",
       "      <th>LotFrontage</th>\n",
       "      <th>LotArea</th>\n",
       "      <th>Street</th>\n",
       "      <th>Alley</th>\n",
       "      <th>LotShape</th>\n",
       "      <th>LandContour</th>\n",
       "      <th>...</th>\n",
       "      <th>PoolArea</th>\n",
       "      <th>PoolQC</th>\n",
       "      <th>Fence</th>\n",
       "      <th>MiscFeature</th>\n",
       "      <th>MiscVal</th>\n",
       "      <th>MoSold</th>\n",
       "      <th>YrSold</th>\n",
       "      <th>SaleType</th>\n",
       "      <th>SaleCondition</th>\n",
       "      <th>SalePrice</th>\n",
       "    </tr>\n",
       "  </thead>\n",
       "  <tbody>\n",
       "    <tr>\n",
       "      <th>0</th>\n",
       "      <td>0</td>\n",
       "      <td>1</td>\n",
       "      <td>60</td>\n",
       "      <td>RL</td>\n",
       "      <td>65.0</td>\n",
       "      <td>8450</td>\n",
       "      <td>Pave</td>\n",
       "      <td>NaN</td>\n",
       "      <td>Reg</td>\n",
       "      <td>Lvl</td>\n",
       "      <td>...</td>\n",
       "      <td>0</td>\n",
       "      <td>NaN</td>\n",
       "      <td>NaN</td>\n",
       "      <td>NaN</td>\n",
       "      <td>0</td>\n",
       "      <td>2</td>\n",
       "      <td>2008</td>\n",
       "      <td>WD</td>\n",
       "      <td>Normal</td>\n",
       "      <td>208500</td>\n",
       "    </tr>\n",
       "    <tr>\n",
       "      <th>1</th>\n",
       "      <td>1</td>\n",
       "      <td>2</td>\n",
       "      <td>20</td>\n",
       "      <td>RL</td>\n",
       "      <td>80.0</td>\n",
       "      <td>9600</td>\n",
       "      <td>Pave</td>\n",
       "      <td>NaN</td>\n",
       "      <td>Reg</td>\n",
       "      <td>Lvl</td>\n",
       "      <td>...</td>\n",
       "      <td>0</td>\n",
       "      <td>NaN</td>\n",
       "      <td>NaN</td>\n",
       "      <td>NaN</td>\n",
       "      <td>0</td>\n",
       "      <td>5</td>\n",
       "      <td>2007</td>\n",
       "      <td>WD</td>\n",
       "      <td>Normal</td>\n",
       "      <td>181500</td>\n",
       "    </tr>\n",
       "    <tr>\n",
       "      <th>2</th>\n",
       "      <td>2</td>\n",
       "      <td>3</td>\n",
       "      <td>60</td>\n",
       "      <td>RL</td>\n",
       "      <td>68.0</td>\n",
       "      <td>11250</td>\n",
       "      <td>Pave</td>\n",
       "      <td>NaN</td>\n",
       "      <td>IR1</td>\n",
       "      <td>Lvl</td>\n",
       "      <td>...</td>\n",
       "      <td>0</td>\n",
       "      <td>NaN</td>\n",
       "      <td>NaN</td>\n",
       "      <td>NaN</td>\n",
       "      <td>0</td>\n",
       "      <td>9</td>\n",
       "      <td>2008</td>\n",
       "      <td>WD</td>\n",
       "      <td>Normal</td>\n",
       "      <td>223500</td>\n",
       "    </tr>\n",
       "    <tr>\n",
       "      <th>3</th>\n",
       "      <td>3</td>\n",
       "      <td>4</td>\n",
       "      <td>70</td>\n",
       "      <td>RL</td>\n",
       "      <td>60.0</td>\n",
       "      <td>9550</td>\n",
       "      <td>Pave</td>\n",
       "      <td>NaN</td>\n",
       "      <td>IR1</td>\n",
       "      <td>Lvl</td>\n",
       "      <td>...</td>\n",
       "      <td>0</td>\n",
       "      <td>NaN</td>\n",
       "      <td>NaN</td>\n",
       "      <td>NaN</td>\n",
       "      <td>0</td>\n",
       "      <td>2</td>\n",
       "      <td>2006</td>\n",
       "      <td>WD</td>\n",
       "      <td>Abnorml</td>\n",
       "      <td>140000</td>\n",
       "    </tr>\n",
       "    <tr>\n",
       "      <th>4</th>\n",
       "      <td>4</td>\n",
       "      <td>5</td>\n",
       "      <td>60</td>\n",
       "      <td>RL</td>\n",
       "      <td>84.0</td>\n",
       "      <td>14260</td>\n",
       "      <td>Pave</td>\n",
       "      <td>NaN</td>\n",
       "      <td>IR1</td>\n",
       "      <td>Lvl</td>\n",
       "      <td>...</td>\n",
       "      <td>0</td>\n",
       "      <td>NaN</td>\n",
       "      <td>NaN</td>\n",
       "      <td>NaN</td>\n",
       "      <td>0</td>\n",
       "      <td>12</td>\n",
       "      <td>2008</td>\n",
       "      <td>WD</td>\n",
       "      <td>Normal</td>\n",
       "      <td>250000</td>\n",
       "    </tr>\n",
       "  </tbody>\n",
       "</table>\n",
       "<p>5 rows × 82 columns</p>\n",
       "</div>"
      ],
      "text/plain": [
       "   Unnamed: 0  Id  MSSubClass MSZoning  LotFrontage  LotArea Street Alley  \\\n",
       "0           0   1          60       RL         65.0     8450   Pave   NaN   \n",
       "1           1   2          20       RL         80.0     9600   Pave   NaN   \n",
       "2           2   3          60       RL         68.0    11250   Pave   NaN   \n",
       "3           3   4          70       RL         60.0     9550   Pave   NaN   \n",
       "4           4   5          60       RL         84.0    14260   Pave   NaN   \n",
       "\n",
       "  LotShape LandContour  ... PoolArea PoolQC Fence MiscFeature MiscVal MoSold  \\\n",
       "0      Reg         Lvl  ...        0    NaN   NaN         NaN       0      2   \n",
       "1      Reg         Lvl  ...        0    NaN   NaN         NaN       0      5   \n",
       "2      IR1         Lvl  ...        0    NaN   NaN         NaN       0      9   \n",
       "3      IR1         Lvl  ...        0    NaN   NaN         NaN       0      2   \n",
       "4      IR1         Lvl  ...        0    NaN   NaN         NaN       0     12   \n",
       "\n",
       "  YrSold SaleType  SaleCondition  SalePrice  \n",
       "0   2008       WD         Normal     208500  \n",
       "1   2007       WD         Normal     181500  \n",
       "2   2008       WD         Normal     223500  \n",
       "3   2006       WD        Abnorml     140000  \n",
       "4   2008       WD         Normal     250000  \n",
       "\n",
       "[5 rows x 82 columns]"
      ]
     },
     "execution_count": 1,
     "metadata": {},
     "output_type": "execute_result"
    }
   ],
   "source": [
    "# Import the pandas library for data manipulation and analysis\n",
    "import pandas as pd\n",
    "\n",
    "# Read the CSV file 'houseSmallData.csv' and store the data in the 'data' DataFrame\n",
    "data = pd.read_csv('houseSmallData.csv')\n",
    "\n",
    "# Display the shape of the 'data' DataFrame, indicating the number of rows and columns\n",
    "data.shape\n",
    "\n",
    "# Create a new DataFrame 'train' by selecting all 100 rows of the 'data' DataFrame\n",
    "train = data.iloc[0:100, :]\n",
    "\n",
    "# Display the first few rows of the 'train' DataFrame to inspect the data\n",
    "train.head()"
   ]
  },
  {
   "attachments": {},
   "cell_type": "markdown",
   "metadata": {},
   "source": [
    "The \"data\" DataFrame consists of 100 rows and a total of 82 columns. To simplify analysis, we created a new DataFrame called \"train\" by selecting all 100 rows from the \"data\" DataFrame (the number of rows can be modified using the iloc method, based on the preferred data amount, but for now, we will use all 100 rows). These columns hold various data types, such as numbers, text, and some instances of NaN values, which will be examined more closely in subsequent steps."
   ]
  },
  {
   "attachments": {},
   "cell_type": "markdown",
   "metadata": {},
   "source": [
    "[Back to top](#Index)\n",
    "\n",
    "### 2.2 Data Exploration <a class=“anchor” id=“2.2-Data-Exploration”></a>"
   ]
  },
  {
   "attachments": {},
   "cell_type": "markdown",
   "metadata": {},
   "source": [
    "Many machine learning algorithms, including linear regression, assume that the target variable ('SalePrice' in this case) follows a normal distribution. Deviations from this assumption might affect the model's performance and accuracy. Therefore, when exploring the data, we should examine the distribution of the target variable 'SalePrice', as it reveals whether house prices are normally distributed or skewed. Skewed distributions could indicate outliers or specific patterns that require attention, and outliers can impact the model's predictions and overall performance. If the distribution is skewed, we might consider applying transformations to make it more closely resemble a normal distribution.\n",
    "\n",
    "To understand the central tendencies, variability, and potential presence of outliers in the data, we can use the describe() function. This function is especially useful for obtaining a quick overview of the variable's distribution and identifying any potential issues that need further investigation or preprocessing."
   ]
  },
  {
   "cell_type": "code",
   "execution_count": 2,
   "metadata": {},
   "outputs": [
    {
     "data": {
      "text/plain": [
       "count       100.000000\n",
       "mean     173820.660000\n",
       "std       72236.552886\n",
       "min       40000.000000\n",
       "25%      129362.500000\n",
       "50%      153750.000000\n",
       "75%      207750.000000\n",
       "max      438780.000000\n",
       "Name: SalePrice, dtype: float64"
      ]
     },
     "execution_count": 2,
     "metadata": {},
     "output_type": "execute_result"
    }
   ],
   "source": [
    "# Extract the 'SalePrice' column from the 'train' DataFrame and store it in the 'salePrice' Series\n",
    "salePrice = train['SalePrice']\n",
    "\n",
    "# Display descriptive statistics of the 'salePrice' Series using the describe() function\n",
    "salePrice.describe()"
   ]
  },
  {
   "attachments": {},
   "cell_type": "markdown",
   "metadata": {},
   "source": [
    "We can see the average house price in this dataset is approximately $173,820, with a minimum of $40,000 and a maximum of $438,780. It has the median price at $153,750. The interquartile range spans from $129,362.50 to $207,750, indicating price variability."
   ]
  },
  {
   "attachments": {},
   "cell_type": "markdown",
   "metadata": {},
   "source": [
    "Next, we can create a plot to visually display the distribution and gain insight into its overall shape."
   ]
  },
  {
   "cell_type": "code",
   "execution_count": 4,
   "metadata": {},
   "outputs": [
    {
     "data": {
      "text/plain": [
       "(array([ 2., 17., 35., 17., 11.,  8.,  5.,  3.,  1.,  1.]),\n",
       " array([ 40000.,  79878., 119756., 159634., 199512., 239390., 279268.,\n",
       "        319146., 359024., 398902., 438780.]),\n",
       " <BarContainer object of 10 artists>)"
      ]
     },
     "execution_count": 4,
     "metadata": {},
     "output_type": "execute_result"
    },
    {
     "data": {
      "image/png": "[encoded data removed]",
      "text/plain": [
       "<Figure size 640x480 with 1 Axes>"
      ]
     },
     "metadata": {},
     "output_type": "display_data"
    }
   ],
   "source": [
    "# Import the matplotlib library for data visualization\n",
    "import matplotlib.pyplot as plt\n",
    "\n",
    "# Create a histogram to visualize the distribution of the 'salePrice' Series\n",
    "plt.hist(salePrice)"
   ]
  },
  {
   "attachments": {},
   "cell_type": "markdown",
   "metadata": {},
   "source": [
    "The plotted histogram above shows the distribution of 'SalePrice', revealing a right-skewed pattern that currently deviates from a normal distribution. This skewness can also be checked with skew() function. This is where data transformation becomes pertinent, a common practice is to employ a logarithmic transformation on the target variable to assess its alignment with a normal distribution."
   ]
  },
  {
   "cell_type": "code",
   "execution_count": 5,
   "metadata": {},
   "outputs": [
    {
     "data": {
      "image/png": "[encoded data removed]",
      "text/plain": [
       "<Figure size 640x480 with 1 Axes>"
      ]
     },
     "metadata": {},
     "output_type": "display_data"
    }
   ],
   "source": [
    "# Import the numpy library for data manipulation\n",
    "import numpy as np\n",
    "\n",
    "# Create a histogram to visualize the distribution of the natural logarithm of 'salePrice'\n",
    "plt.hist(np.log(salePrice))\n",
    "\n",
    "# Calculate the skewness of the natural logarithm of 'salePrice'\n",
    "np.log(salePrice).skew()\n",
    "\n",
    "# Calculate the natural logarithm of 'salePrice' and store it in the 'target' variable\n",
    "target = np.log(salePrice)"
   ]
  },
  {
   "attachments": {},
   "cell_type": "markdown",
   "metadata": {},
   "source": [
    "As exhibited in the above histogram, the log transformation yields a closer resemblance to a normal distribution, thereby leading us to adopt this transformed variable as the new target."
   ]
  },
  {
   "attachments": {},
   "cell_type": "markdown",
   "metadata": {},
   "source": [
    "Next, we'll investigate the connections between each variable in the DataFrame and the target variable. This will involve creating scatter plots to visually represent relationships between pairs of variables. Initially, we'll concentrate on a subset of variables that are expected to be strongly correlated with the target. Alongside the variables already chosen by Dr. William ('OverallQual', 'MasVnrArea', 'GrLivArea', 'GarageArea'), the upcoming plots will showcase the degree of correlation for 'TotalBsmtSF', 'GarageCars' and 'YearBuilt'."
   ]
  },
  {
   "cell_type": "code",
   "execution_count": 6,
   "metadata": {},
   "outputs": [
    {
     "data": {
      "text/plain": [
       "<matplotlib.collections.PathCollection at 0x127991f40>"
      ]
     },
     "execution_count": 6,
     "metadata": {},
     "output_type": "execute_result"
    },
    {
     "data": {
      "image/png": "[encoded data removed]",
      "text/plain": [
       "<Figure size 640x480 with 1 Axes>"
      ]
     },
     "metadata": {},
     "output_type": "display_data"
    }
   ],
   "source": [
    "# Create a scatter plot to visualize the relationship between 'TotalBsmtSF' and the target variable 'target'\n",
    "plt.scatter(train['TotalBsmtSF'], y=target)"
   ]
  },
  {
   "attachments": {},
   "cell_type": "markdown",
   "metadata": {},
   "source": [
    "The initial scatter plot reveals a correlation between TotalBsmtSF (Total square feet of basement area) and the target variable. When the living area's square footage increases, the target variable also experiences an increase."
   ]
  },
  {
   "cell_type": "code",
   "execution_count": 7,
   "metadata": {},
   "outputs": [
    {
     "data": {
      "text/plain": [
       "<matplotlib.collections.PathCollection at 0x127a0ce50>"
      ]
     },
     "execution_count": 7,
     "metadata": {},
     "output_type": "execute_result"
    },
    {
     "data": {
      "image/png": "[encoded data removed]",
      "text/plain": [
       "<Figure size 640x480 with 1 Axes>"
      ]
     },
     "metadata": {},
     "output_type": "display_data"
    }
   ],
   "source": [
    "# Create a scatter plot to visualize the relationship between 'GarageCars' and the target variable 'target'\n",
    "plt.scatter(train['GarageCars'], y=target)"
   ]
  },
  {
   "attachments": {},
   "cell_type": "markdown",
   "metadata": {},
   "source": [
    "The following scatter plot demonstrates a modest correlation between 'GarageCars' (Size of garage in car capacity) and the target variable. As the car capacity of the garage grows, there's a tendency for the target variable to also increase."
   ]
  },
  {
   "cell_type": "code",
   "execution_count": 8,
   "metadata": {},
   "outputs": [
    {
     "data": {
      "text/plain": [
       "<matplotlib.collections.PathCollection at 0x127947940>"
      ]
     },
     "execution_count": 8,
     "metadata": {},
     "output_type": "execute_result"
    },
    {
     "data": {
      "image/png": "[encoded data removed]",
      "text/plain": [
       "<Figure size 640x480 with 1 Axes>"
      ]
     },
     "metadata": {},
     "output_type": "display_data"
    }
   ],
   "source": [
    "# Create a scatter plot to visualize the relationship between 'YearBuilt' and the target variable 'target'\n",
    "plt.scatter(train['YearBuilt'], y=target)"
   ]
  },
  {
   "attachments": {},
   "cell_type": "markdown",
   "metadata": {},
   "source": [
    "The subsequent scatter plot further highlights a strong correlation between 'YearBuilt' (Original construction date) and the target variable. As the construction date becomes more recent (with increasing years), there's a noticeable tendency for the target variable to also increase."
   ]
  },
  {
   "attachments": {},
   "cell_type": "markdown",
   "metadata": {},
   "source": [
    "[Back to top](#Index)\n",
    "\n",
    "### 2.3 Data Preparation <a class=“anchor” id=“2.3-Data-Preparation”></a>"
   ]
  },
  {
   "attachments": {},
   "cell_type": "markdown",
   "metadata": {},
   "source": [
    "To ensure precise calculations and reliable results, data cleanliness is essential. For this project, we follow these steps in the code cell to clean our data:"
   ]
  },
  {
   "cell_type": "code",
   "execution_count": 9,
   "metadata": {},
   "outputs": [
    {
     "data": {
      "text/plain": [
       "(100, 39)"
      ]
     },
     "execution_count": 9,
     "metadata": {},
     "output_type": "execute_result"
    }
   ],
   "source": [
    "# Create a DataFrame 'nulls' to store the count of missing values for each column in the 'train' DataFrame\n",
    "# Sort the columns in descending order of missing values and display the top 20\n",
    "nulls = pd.DataFrame(train.isnull().sum().sort_values(ascending=False))[0:20]\n",
    "\n",
    "# Display the 'nulls' DataFrame to inspect the columns with the highest count of missing values\n",
    "nulls\n",
    "\n",
    "# Create a DataFrame 'data' containing only numeric columns from the 'train' DataFrame\n",
    "# Interpolate missing values and drop columns with remaining missing values\n",
    "data = train.select_dtypes(include=[np.number]).interpolate().dropna(axis=1)\n",
    "\n",
    "# Calculate the sum of columns with non-zero missing values in the 'data' DataFrame\n",
    "sum(data.isnull().sum()!=0)\n",
    "\n",
    "# Display the shape of the 'data' DataFrame to show the number of rows and columns after cleaning\n",
    "data.shape"
   ]
  },
  {
   "attachments": {},
   "cell_type": "markdown",
   "metadata": {},
   "source": [
    "[Back to top](#Index)\n",
    "\n",
    "### 2.4 Correlation <a class=“anchor” id=“2.4-Correlation”></a>"
   ]
  },
  {
   "attachments": {},
   "cell_type": "markdown",
   "metadata": {},
   "source": [
    "Until now, we know that the correlation between a feature variable and a target variable indicates the degree and direction of their relationship within a dataset. The absolute value of the correlation coefficient indicates the strength of the relationship. A value closer to 1 (either positive or negative) signifies a stronger correlation, while a value closer to 0 indicates a weaker correlation. In the following steps, we'll calculate correlation coefficient between each variable and the target variable, then determine which variables are the most potential predictor to be used in the model. "
   ]
  },
  {
   "cell_type": "code",
   "execution_count": 11,
   "metadata": {},
   "outputs": [
    {
     "data": {
      "text/plain": [
       "Index(['SalePrice', 'OverallQual', 'GrLivArea', 'GarageArea', 'GarageCars',\n",
       "       'YearBuilt', 'TotalBsmtSF'],\n",
       "      dtype='object')"
      ]
     },
     "execution_count": 11,
     "metadata": {},
     "output_type": "execute_result"
    }
   ],
   "source": [
    "# Select only the numeric columns from the 'data' DataFrame\n",
    "numeric = data.select_dtypes(include=[np.number])\n",
    "\n",
    "# Calculate the correlation matrix among numeric variables\n",
    "corr = numeric.corr()\n",
    "\n",
    "# Select the top 7 variables with the highest correlation to 'SalePrice'\n",
    "# Sort the variables in descending order of correlation values\n",
    "cols1 = corr['SalePrice'].sort_values(ascending=False)[0:7].index\n",
    "\n",
    "# Display the selected variables which are potential predictors of 'SalePrice'\n",
    "cols1"
   ]
  },
  {
   "attachments": {},
   "cell_type": "markdown",
   "metadata": {},
   "source": [
    "Based on the descending sort order, we'll initially select the 6 independent variables from the list (excluding the first one which is the target variable) where the correlation coefficient surpasses 0.6. We'll call this Set 1:\n",
    "1. OverallQual (Rates the overall material and finish of the house, from 1 as 'Very Poor' to 10 as 'Very Excellent)\n",
    "2. GrLivArea (Above grade (ground) living area square feet)\n",
    "3. GarageArea (Size of garage in square feet)\n",
    "4. GarageCars (Size of garage in car capacity)\n",
    "5. YearBuilt (Original construction date)\n",
    "6. TotalBsmtSF (Total square feet of basement area)"
   ]
  },
  {
   "attachments": {},
   "cell_type": "markdown",
   "metadata": {},
   "source": [
    "\n",
    "[Back to top](#Index)\n",
    "\n",
    "## 3. Project Description <a class=“anchor” id=“3.-Project-Description”></a>\n",
    "\n",
    "Our analysis offers an enhancements compared to Dr. Williams' approach. Primarily, we incorporated a broader selection of features exhibiting correlation coefficients surpassing either 0.6 (and later on 0.5 and 0.4). This augmentation in variables enabled us to capture finer-grained patterns and relationships in the dataset. As the result, our model demonstrated better performance, exhibiting higher R-squared values with both the training and test data. This signifies enhanced accuracy in our goal of predicting house prices.\n",
    "\n",
    "However, it's important to note that including more independent variables does not always guarantee better model performance. There's a trade-off between model complexity and overfitting. Adding too many variables can lead to overfitting, where the model fits the training data perfectly but performs poorly on new, unseen data. Moreover, models with a large number of features require more computational resources for training and prediction. This can lead to longer training times and increased memory usage. Therefore, it's crucial to strike a balance between including relevant variables that enhance the model's explanatory power and avoiding excessive complexity that may lead to overfitting."
   ]
  },
  {
   "attachments": {},
   "cell_type": "markdown",
   "metadata": {},
   "source": [
    "[Back to top](#Index)\n",
    "\n",
    "### 3.1 Linear Regression <a class=“anchor” id=“3.1-Linear-Regression”></a>"
   ]
  },
  {
   "attachments": {},
   "cell_type": "markdown",
   "metadata": {},
   "source": [
    "The algorithm employed in this project is Linear Regression, a foundational technique in machine learning for modeling relationships between variables. It's designed to predict continuous target variables by establishing a linear connection with one or more independent features. Let's explore its components:\n",
    "\n",
    "Theory and Origin:\n",
    "The concept of Linear Regression dates back to the 18th century, with Carl Friedrich Gauss introducing the method of least squares. The goal is to minimize the sum of squared differences between observed data and predicted values. This is achieved by fitting a straight line to the data, characterized by a slope and intercept.\n",
    "\n",
    "Implementation Steps using Python:\n",
    "\n",
    "1. Data Loading: Import the dataset and segregate feature variables \n",
    "2. Model Initialization: Create an instance of the Linear Regression model using the scikit-learn library's LinearRegression().\n",
    "3. Model Training: Train the model with the training data using the fit(X, Y) method.\n",
    "4. Prediction: Utilize the trained model to make predictions of the target variable through the predict(X) function.\n",
    "5. Evaluation: Gauge the model's effectiveness by using metrics like R-squared, Mean Absolute Error (MAE), or Root Mean Squared Error (RMSE). For this project, we will solely use R-squared.\n",
    "6. Visualization: Visualize the model's predictions in comparison to the actual data points through scatter plots.\n",
    "\n",
    "Implementing it in Python, particularly with scikit-learn, is accessible and insightful, contributing to effective data analysis and informed decision-making."
   ]
  },
  {
   "attachments": {},
   "cell_type": "markdown",
   "metadata": {},
   "source": [
    "To prepare and structure the data for the linear regression modeling, here are the steps that we take:\n",
    "\n",
    "1. Select specific columns from the original dataset to create a subset of features (X) that we believe are influential in predicting the target variable.\n",
    "2. Isolate the target variable, 'SalePrice', into its own Series (Y). \n",
    "3. Remove the 'SalePrice' column from the feature variables (X) since it will be used as the target variable. Our goal is to build a model that predicts 'SalePrice' based on other features, so we want to ensure the model doesn't inadvertently use the target variable as a predictor."
   ]
  },
  {
   "cell_type": "code",
   "execution_count": 52,
   "metadata": {},
   "outputs": [
    {
     "data": {
      "text/html": [
       "<div>\n",
       "<style scoped>\n",
       "    .dataframe tbody tr th:only-of-type {\n",
       "        vertical-align: middle;\n",
       "    }\n",
       "\n",
       "    .dataframe tbody tr th {\n",
       "        vertical-align: top;\n",
       "    }\n",
       "\n",
       "    .dataframe thead th {\n",
       "        text-align: right;\n",
       "    }\n",
       "</style>\n",
       "<table border=\"1\" class=\"dataframe\">\n",
       "  <thead>\n",
       "    <tr style=\"text-align: right;\">\n",
       "      <th></th>\n",
       "      <th>OverallQual</th>\n",
       "      <th>GrLivArea</th>\n",
       "      <th>GarageArea</th>\n",
       "      <th>GarageCars</th>\n",
       "      <th>YearBuilt</th>\n",
       "      <th>TotalBsmtSF</th>\n",
       "    </tr>\n",
       "  </thead>\n",
       "  <tbody>\n",
       "    <tr>\n",
       "      <th>0</th>\n",
       "      <td>7</td>\n",
       "      <td>1710</td>\n",
       "      <td>548</td>\n",
       "      <td>2</td>\n",
       "      <td>2003</td>\n",
       "      <td>856</td>\n",
       "    </tr>\n",
       "    <tr>\n",
       "      <th>1</th>\n",
       "      <td>6</td>\n",
       "      <td>1262</td>\n",
       "      <td>460</td>\n",
       "      <td>2</td>\n",
       "      <td>1976</td>\n",
       "      <td>1262</td>\n",
       "    </tr>\n",
       "    <tr>\n",
       "      <th>2</th>\n",
       "      <td>7</td>\n",
       "      <td>1786</td>\n",
       "      <td>608</td>\n",
       "      <td>2</td>\n",
       "      <td>2001</td>\n",
       "      <td>920</td>\n",
       "    </tr>\n",
       "    <tr>\n",
       "      <th>3</th>\n",
       "      <td>7</td>\n",
       "      <td>1717</td>\n",
       "      <td>642</td>\n",
       "      <td>3</td>\n",
       "      <td>1915</td>\n",
       "      <td>756</td>\n",
       "    </tr>\n",
       "    <tr>\n",
       "      <th>4</th>\n",
       "      <td>8</td>\n",
       "      <td>2198</td>\n",
       "      <td>836</td>\n",
       "      <td>3</td>\n",
       "      <td>2000</td>\n",
       "      <td>1145</td>\n",
       "    </tr>\n",
       "    <tr>\n",
       "      <th>...</th>\n",
       "      <td>...</td>\n",
       "      <td>...</td>\n",
       "      <td>...</td>\n",
       "      <td>...</td>\n",
       "      <td>...</td>\n",
       "      <td>...</td>\n",
       "    </tr>\n",
       "    <tr>\n",
       "      <th>95</th>\n",
       "      <td>6</td>\n",
       "      <td>1470</td>\n",
       "      <td>420</td>\n",
       "      <td>2</td>\n",
       "      <td>1993</td>\n",
       "      <td>680</td>\n",
       "    </tr>\n",
       "    <tr>\n",
       "      <th>96</th>\n",
       "      <td>7</td>\n",
       "      <td>1588</td>\n",
       "      <td>472</td>\n",
       "      <td>2</td>\n",
       "      <td>1999</td>\n",
       "      <td>1588</td>\n",
       "    </tr>\n",
       "    <tr>\n",
       "      <th>97</th>\n",
       "      <td>4</td>\n",
       "      <td>960</td>\n",
       "      <td>432</td>\n",
       "      <td>1</td>\n",
       "      <td>1965</td>\n",
       "      <td>960</td>\n",
       "    </tr>\n",
       "    <tr>\n",
       "      <th>98</th>\n",
       "      <td>5</td>\n",
       "      <td>835</td>\n",
       "      <td>366</td>\n",
       "      <td>1</td>\n",
       "      <td>1920</td>\n",
       "      <td>458</td>\n",
       "    </tr>\n",
       "    <tr>\n",
       "      <th>99</th>\n",
       "      <td>4</td>\n",
       "      <td>1225</td>\n",
       "      <td>0</td>\n",
       "      <td>0</td>\n",
       "      <td>1959</td>\n",
       "      <td>950</td>\n",
       "    </tr>\n",
       "  </tbody>\n",
       "</table>\n",
       "<p>100 rows × 6 columns</p>\n",
       "</div>"
      ],
      "text/plain": [
       "    OverallQual  GrLivArea  GarageArea  GarageCars  YearBuilt  TotalBsmtSF\n",
       "0             7       1710         548           2       2003          856\n",
       "1             6       1262         460           2       1976         1262\n",
       "2             7       1786         608           2       2001          920\n",
       "3             7       1717         642           3       1915          756\n",
       "4             8       2198         836           3       2000         1145\n",
       "..          ...        ...         ...         ...        ...          ...\n",
       "95            6       1470         420           2       1993          680\n",
       "96            7       1588         472           2       1999         1588\n",
       "97            4        960         432           1       1965          960\n",
       "98            5        835         366           1       1920          458\n",
       "99            4       1225           0           0       1959          950\n",
       "\n",
       "[100 rows x 6 columns]"
      ]
     },
     "execution_count": 52,
     "metadata": {},
     "output_type": "execute_result"
    }
   ],
   "source": [
    "# Create a new DataFrame 'X' containing the columns specified in 'cols1'\n",
    "X = data[cols1]\n",
    "\n",
    "# Extract the 'SalePrice' column as the target variable 'Y'\n",
    "Y = X['SalePrice']\n",
    "\n",
    "# Drop the 'SalePrice' column from the 'X' DataFrame to form the feature variables\n",
    "X = X.drop(['SalePrice'], axis=1)\n",
    "\n",
    "# Display the modified 'X' DataFrame containing the selected feature variables\n",
    "X\n"
   ]
  },
  {
   "attachments": {},
   "cell_type": "markdown",
   "metadata": {},
   "source": [
    "Next step is to import sklearn statement the module linear_model from scikit-learn, which includes linear regression functionalities.\n",
    "\n",
    "1. Instantiate Linear Regression Model:\n",
    "lr = linear_model.LinearRegression() creates an instance of the linear regression model. lr is now an object that represents a linear regression model.\n",
    "\n",
    "2. Fit Model to Data:\n",
    "model = lr.fit(X, Y) fits the linear regression model to the training data. X represents the feature variables, and Y is the target variable. After this step, the model object has learned from the provided data and is ready to make predictions.\n",
    "\n",
    "3. Make Predictions:\n",
    "predictions = model.predict(X) predicts the target variable (Y) using the feature variables (X). The predicted values are stored in the predictions variable.\n",
    "\n",
    "4. Calculate and Print R-squared:\n",
    "model.score(X, Y) calculates the R-squared value, which quantifies the goodness of fit of the model. It measures the proportion of variance in the target variable explained by the model."
   ]
  },
  {
   "cell_type": "code",
   "execution_count": 68,
   "metadata": {},
   "outputs": [
    {
     "name": "stdout",
     "output_type": "stream",
     "text": [
      "R^2 is: 0.8489694682378784\n"
     ]
    }
   ],
   "source": [
    "# Import the scikit-learn library, a machine learning toolkit\n",
    "import sklearn\n",
    "\n",
    "# Import the linear_model module from scikit-learn\n",
    "from sklearn import linear_model\n",
    "\n",
    "# Create an instance of the LinearRegression model\n",
    "lr = linear_model.LinearRegression()\n",
    "\n",
    "# Train the Linear Regression model on the feature variables (X) and target variable (Y)\n",
    "model1 = lr.fit(X, Y)\n",
    "\n",
    "# Use the trained model to make predictions for the feature variables (X)\n",
    "predictions1 = model1.predict(X)\n",
    "\n",
    "# Print the R-squared value, a measure of the model's goodness of fit\n",
    "print(f\"R^2 is: {model1.score(X, Y)}\")"
   ]
  },
  {
   "attachments": {},
   "cell_type": "markdown",
   "metadata": {},
   "source": [
    "With Set 1 (6 independent variables), we achieved the R-squared value of 0.84, which indicates that approximately 84% of the variability in the target variable can be explained by the independent variables used in the model. In other words, the model captures 84% of the fluctuations or changes in the target variable based on the provided input features."
   ]
  },
  {
   "cell_type": "code",
   "execution_count": 54,
   "metadata": {},
   "outputs": [
    {
     "data": {
      "text/plain": [
       "(array([ 2.,  5.,  7., 28., 27., 15., 11.,  2.,  1.,  2.]),\n",
       " array([-74467.30462331, -57521.04396945, -40574.78331559, -23628.52266173,\n",
       "         -6682.26200787,  10263.99864599,  27210.25929985,  44156.51995371,\n",
       "         61102.78060757,  78049.04126143,  94995.30191529]),\n",
       " <BarContainer object of 10 artists>)"
      ]
     },
     "execution_count": 54,
     "metadata": {},
     "output_type": "execute_result"
    },
    {
     "data": {
      "image/png": "[encoded data removed]",
      "text/plain": [
       "<Figure size 640x480 with 1 Axes>"
      ]
     },
     "metadata": {},
     "output_type": "display_data"
    }
   ],
   "source": [
    "# Create a histogram to visualize the differences between actual target values (Y) and predicted values (predictions)\n",
    "plt.hist(Y - predictions1)"
   ]
  },
  {
   "attachments": {},
   "cell_type": "markdown",
   "metadata": {},
   "source": [
    "This plot showcases the variance between actual target values (Y) and predicted values (predictions). Notably, the distribution closely resembles a normal distribution centered around 0, signifying a favorable outcome."
   ]
  },
  {
   "cell_type": "code",
   "execution_count": 55,
   "metadata": {},
   "outputs": [
    {
     "data": {
      "text/plain": [
       "<matplotlib.collections.PathCollection at 0x16a3a6250>"
      ]
     },
     "execution_count": 55,
     "metadata": {},
     "output_type": "execute_result"
    },
    {
     "data": {
      "image/png": "[encoded data removed]",
      "text/plain": [
       "<Figure size 640x480 with 1 Axes>"
      ]
     },
     "metadata": {},
     "output_type": "display_data"
    }
   ],
   "source": [
    "# Create a scatter plot to visualize the relationship between predicted values (predictions) and actual target values (Y)\n",
    "plt.scatter(predictions1, Y, color = 'r')"
   ]
  },
  {
   "attachments": {},
   "cell_type": "markdown",
   "metadata": {},
   "source": [
    "For this scatter plot, each point represents a pair of a predicted value (X-axis) and its corresponding actual target value (Y-axis). We can see the points generally align along a diagonal line, indicating a strong correlation between predicted and actual values."
   ]
  },
  {
   "attachments": {},
   "cell_type": "markdown",
   "metadata": {},
   "source": [
    "[Back to top](#Index)\n",
    "\n",
    "### 3.2 Analysis <a class=“anchor” id=“3.2-Analysis”></a>"
   ]
  },
  {
   "attachments": {},
   "cell_type": "markdown",
   "metadata": {},
   "source": [
    "As previously stated, we've already run predictions using Set 1 with 6 independent variables. In this analysis, we'll experiment with two alternative sets of independent variables to compare prediction performance. This comparison will help us determine which set of variables yields better prediction results."
   ]
  },
  {
   "attachments": {},
   "cell_type": "markdown",
   "metadata": {},
   "source": [
    "__Set 2: We use all 12 independent variables with the correlation coefficients exceeding 0.5.__"
   ]
  },
  {
   "cell_type": "code",
   "execution_count": 70,
   "metadata": {},
   "outputs": [],
   "source": [
    "# Select the top 13 variables with the highest correlation to SalePrice and store their column names\n",
    "cols2 = corr['SalePrice'].sort_values(ascending=False)[0:13].index\n",
    "\n",
    "# Create a DataFrame X containing the selected columns from the original dataset\n",
    "X = data[cols2]\n",
    "\n",
    "# Extract the SalePrice column as the target variable Y\n",
    "Y = X['SalePrice']\n",
    "\n",
    "# Drop the SalePrice column from the feature variables to create input data for the model\n",
    "X = X.drop(['SalePrice'], axis=1)\n",
    "\n",
    "# Instantiate the Linear Regression model and train it on the selected features (X) and target variable (Y)\n",
    "model2 = lr.fit(X, Y)\n",
    "\n",
    "# Predict the target variable using the trained model\n",
    "predictions2 = model2.predict(X)"
   ]
  },
  {
   "attachments": {},
   "cell_type": "markdown",
   "metadata": {},
   "source": [
    "__Set 3: We use all 15 independent variables with the correlation coefficients exceeding 0.4.__"
   ]
  },
  {
   "cell_type": "code",
   "execution_count": 72,
   "metadata": {},
   "outputs": [],
   "source": [
    "# Select the top 16 variables with the highest correlation to SalePrice and store their column names\n",
    "cols3 = corr['SalePrice'].sort_values(ascending=False)[0:16].index\n",
    "\n",
    "# Create a DataFrame X containing the selected columns from the original dataset\n",
    "X = data[cols3]\n",
    "\n",
    "# Extract the SalePrice column as the target variable Y\n",
    "Y = X['SalePrice']\n",
    "\n",
    "# Drop the SalePrice column from the feature variables to create input data for the model\n",
    "X = X.drop(['SalePrice'], axis=1)\n",
    "\n",
    "# Instantiate the Linear Regression model and train it on the selected features (X) and target variable (Y)\n",
    "model3 = lr.fit(X, Y)\n",
    "\n",
    "# Predict the target variable using the trained model\n",
    "predictions3 = model3.predict(X)"
   ]
  },
  {
   "attachments": {},
   "cell_type": "markdown",
   "metadata": {},
   "source": [
    "[Back to top](#Index)\n",
    "\n",
    "### 3.3 Results <a class=“anchor” id=“3.3-Results”></a>"
   ]
  },
  {
   "attachments": {},
   "cell_type": "markdown",
   "metadata": {},
   "source": [
    "**Model 2**"
   ]
  },
  {
   "cell_type": "code",
   "execution_count": 60,
   "metadata": {},
   "outputs": [
    {
     "name": "stdout",
     "output_type": "stream",
     "text": [
      "R^2 is: 0.8559416534609251\n"
     ]
    },
    {
     "data": {
      "text/plain": [
       "<matplotlib.collections.PathCollection at 0x16a49d5e0>"
      ]
     },
     "execution_count": 60,
     "metadata": {},
     "output_type": "execute_result"
    },
    {
     "data": {
      "image/png": "[encoded data removed]",
      "text/plain": [
       "<Figure size 640x480 with 1 Axes>"
      ]
     },
     "metadata": {},
     "output_type": "display_data"
    }
   ],
   "source": [
    "# Print the R-squared value to assess the model's performance\n",
    "print(f\"R^2 is: {model2.score(X, Y)}\")\n",
    "\n",
    "# Create a scatter plot to visualize the relationship between predicted and actual values\n",
    "plt.scatter(predictions2, Y, color='r')"
   ]
  },
  {
   "attachments": {},
   "cell_type": "markdown",
   "metadata": {},
   "source": [
    "Using Set 2 (12 independent variables), we attained an R-squared value of 0.85. This suggests that around 85% of the variability in the target variable can be accounted for by the independent variables integrated into the model. Notably, this represents a slight enhancement compared to the results obtained from Set 1."
   ]
  },
  {
   "attachments": {},
   "cell_type": "markdown",
   "metadata": {},
   "source": [
    "**Model 3**"
   ]
  },
  {
   "cell_type": "code",
   "execution_count": 26,
   "metadata": {},
   "outputs": [
    {
     "name": "stdout",
     "output_type": "stream",
     "text": [
      "R^2 is: 0.8824028808099046\n"
     ]
    },
    {
     "data": {
      "text/plain": [
       "<matplotlib.collections.PathCollection at 0x169822100>"
      ]
     },
     "execution_count": 26,
     "metadata": {},
     "output_type": "execute_result"
    },
    {
     "data": {
      "image/png": "[encoded data removed]",
      "text/plain": [
       "<Figure size 640x480 with 1 Axes>"
      ]
     },
     "metadata": {},
     "output_type": "display_data"
    }
   ],
   "source": [
    "# Print the R-squared value to assess the model's performance\n",
    "print(f\"R^2 is: {model3.score(X, Y)}\")\n",
    "\n",
    "# Create a scatter plot to visualize the relationship between predicted and actual values\n",
    "plt.scatter(predictions3, Y, color='r')"
   ]
  },
  {
   "attachments": {},
   "cell_type": "markdown",
   "metadata": {},
   "source": [
    "With Set 3 (15 independent variables), we achieved an R-squared value of 0.88, indicating that approximately 88% of the variability in the target variable can be explained by the incorporated independent variables. This improvement is noteworthy when compared to the outcomes of Set 1 and Set 2."
   ]
  },
  {
   "attachments": {},
   "cell_type": "markdown",
   "metadata": {},
   "source": [
    "In comparison, model3 outperformed the others with an R-squared value of 0.88, surpassing Model 1 (0.84) and Model 2 (0.85). Model 3 incorporates the highest number of independent variables among the three. This extended set of variables enables the model to capture a wider range of data variations and patterns, enhancing its ability to reflect underlying feature-target relationships. Consequently, the model effectively explains more variance in the target variable, leading to an elevated R-squared value."
   ]
  },
  {
   "attachments": {},
   "cell_type": "markdown",
   "metadata": {},
   "source": [
    "[Back to top](#Index)\n",
    "\n",
    "### 3.4 Verify Your Model Against Test Data <a class=“anchor” id=“3.4-Verify-Your-Model-Against-Test-Data”></a>\n",
    "\n",
    "Now, it's time to test our models against test data to confirm its accuracy on new data."
   ]
  },
  {
   "attachments": {},
   "cell_type": "markdown",
   "metadata": {},
   "source": [
    "**Import and Explore Test Data**"
   ]
  },
  {
   "cell_type": "code",
   "execution_count": 65,
   "metadata": {},
   "outputs": [
    {
     "data": {
      "text/plain": [
       "(100, 82)"
      ]
     },
     "execution_count": 65,
     "metadata": {},
     "output_type": "execute_result"
    }
   ],
   "source": [
    "# Read the CSV file 'jtest.csv' and store the data in the 'test' DataFrame\n",
    "test = pd.read_csv('jtest.csv')\n",
    "\n",
    "# Display the shape of the 'test' DataFrame, indicating the number of rows and columns\n",
    "test.shape\n"
   ]
  },
  {
   "attachments": {},
   "cell_type": "markdown",
   "metadata": {},
   "source": [
    "**Prepare Test Data**"
   ]
  },
  {
   "cell_type": "code",
   "execution_count": 62,
   "metadata": {},
   "outputs": [
    {
     "data": {
      "text/html": [
       "<div>\n",
       "<style scoped>\n",
       "    .dataframe tbody tr th:only-of-type {\n",
       "        vertical-align: middle;\n",
       "    }\n",
       "\n",
       "    .dataframe tbody tr th {\n",
       "        vertical-align: top;\n",
       "    }\n",
       "\n",
       "    .dataframe thead th {\n",
       "        text-align: right;\n",
       "    }\n",
       "</style>\n",
       "<table border=\"1\" class=\"dataframe\">\n",
       "  <thead>\n",
       "    <tr style=\"text-align: right;\">\n",
       "      <th></th>\n",
       "      <th>Unnamed: 0</th>\n",
       "      <th>Id</th>\n",
       "      <th>MSSubClass</th>\n",
       "      <th>LotArea</th>\n",
       "      <th>OverallQual</th>\n",
       "      <th>OverallCond</th>\n",
       "      <th>YearBuilt</th>\n",
       "      <th>YearRemodAdd</th>\n",
       "      <th>MasVnrArea</th>\n",
       "      <th>BsmtFinSF1</th>\n",
       "      <th>...</th>\n",
       "      <th>WoodDeckSF</th>\n",
       "      <th>OpenPorchSF</th>\n",
       "      <th>EnclosedPorch</th>\n",
       "      <th>3SsnPorch</th>\n",
       "      <th>ScreenPorch</th>\n",
       "      <th>PoolArea</th>\n",
       "      <th>MiscVal</th>\n",
       "      <th>MoSold</th>\n",
       "      <th>YrSold</th>\n",
       "      <th>SalePrice</th>\n",
       "    </tr>\n",
       "  </thead>\n",
       "  <tbody>\n",
       "    <tr>\n",
       "      <th>0</th>\n",
       "      <td>100</td>\n",
       "      <td>101</td>\n",
       "      <td>20</td>\n",
       "      <td>10603</td>\n",
       "      <td>6</td>\n",
       "      <td>7</td>\n",
       "      <td>1977</td>\n",
       "      <td>2001</td>\n",
       "      <td>28.0</td>\n",
       "      <td>1200</td>\n",
       "      <td>...</td>\n",
       "      <td>168</td>\n",
       "      <td>68</td>\n",
       "      <td>0</td>\n",
       "      <td>0</td>\n",
       "      <td>0</td>\n",
       "      <td>0</td>\n",
       "      <td>0</td>\n",
       "      <td>2</td>\n",
       "      <td>2010</td>\n",
       "      <td>205000</td>\n",
       "    </tr>\n",
       "    <tr>\n",
       "      <th>1</th>\n",
       "      <td>101</td>\n",
       "      <td>102</td>\n",
       "      <td>60</td>\n",
       "      <td>9206</td>\n",
       "      <td>6</td>\n",
       "      <td>5</td>\n",
       "      <td>1985</td>\n",
       "      <td>1985</td>\n",
       "      <td>336.0</td>\n",
       "      <td>0</td>\n",
       "      <td>...</td>\n",
       "      <td>192</td>\n",
       "      <td>46</td>\n",
       "      <td>0</td>\n",
       "      <td>0</td>\n",
       "      <td>0</td>\n",
       "      <td>0</td>\n",
       "      <td>0</td>\n",
       "      <td>6</td>\n",
       "      <td>2010</td>\n",
       "      <td>178000</td>\n",
       "    </tr>\n",
       "    <tr>\n",
       "      <th>2</th>\n",
       "      <td>102</td>\n",
       "      <td>103</td>\n",
       "      <td>90</td>\n",
       "      <td>7018</td>\n",
       "      <td>5</td>\n",
       "      <td>5</td>\n",
       "      <td>1979</td>\n",
       "      <td>1979</td>\n",
       "      <td>0.0</td>\n",
       "      <td>0</td>\n",
       "      <td>...</td>\n",
       "      <td>0</td>\n",
       "      <td>0</td>\n",
       "      <td>0</td>\n",
       "      <td>0</td>\n",
       "      <td>0</td>\n",
       "      <td>0</td>\n",
       "      <td>0</td>\n",
       "      <td>6</td>\n",
       "      <td>2009</td>\n",
       "      <td>118964</td>\n",
       "    </tr>\n",
       "    <tr>\n",
       "      <th>3</th>\n",
       "      <td>103</td>\n",
       "      <td>104</td>\n",
       "      <td>20</td>\n",
       "      <td>10402</td>\n",
       "      <td>7</td>\n",
       "      <td>5</td>\n",
       "      <td>2009</td>\n",
       "      <td>2009</td>\n",
       "      <td>0.0</td>\n",
       "      <td>0</td>\n",
       "      <td>...</td>\n",
       "      <td>0</td>\n",
       "      <td>36</td>\n",
       "      <td>0</td>\n",
       "      <td>0</td>\n",
       "      <td>0</td>\n",
       "      <td>0</td>\n",
       "      <td>0</td>\n",
       "      <td>5</td>\n",
       "      <td>2010</td>\n",
       "      <td>198900</td>\n",
       "    </tr>\n",
       "    <tr>\n",
       "      <th>4</th>\n",
       "      <td>104</td>\n",
       "      <td>105</td>\n",
       "      <td>50</td>\n",
       "      <td>7758</td>\n",
       "      <td>7</td>\n",
       "      <td>4</td>\n",
       "      <td>1931</td>\n",
       "      <td>1950</td>\n",
       "      <td>600.0</td>\n",
       "      <td>224</td>\n",
       "      <td>...</td>\n",
       "      <td>0</td>\n",
       "      <td>0</td>\n",
       "      <td>0</td>\n",
       "      <td>0</td>\n",
       "      <td>184</td>\n",
       "      <td>0</td>\n",
       "      <td>0</td>\n",
       "      <td>6</td>\n",
       "      <td>2007</td>\n",
       "      <td>169500</td>\n",
       "    </tr>\n",
       "  </tbody>\n",
       "</table>\n",
       "<p>5 rows × 38 columns</p>\n",
       "</div>"
      ],
      "text/plain": [
       "   Unnamed: 0   Id  MSSubClass  LotArea  OverallQual  OverallCond  YearBuilt  \\\n",
       "0         100  101          20    10603            6            7       1977   \n",
       "1         101  102          60     9206            6            5       1985   \n",
       "2         102  103          90     7018            5            5       1979   \n",
       "3         103  104          20    10402            7            5       2009   \n",
       "4         104  105          50     7758            7            4       1931   \n",
       "\n",
       "   YearRemodAdd  MasVnrArea  BsmtFinSF1  ...  WoodDeckSF  OpenPorchSF  \\\n",
       "0          2001        28.0        1200  ...         168           68   \n",
       "1          1985       336.0           0  ...         192           46   \n",
       "2          1979         0.0           0  ...           0            0   \n",
       "3          2009         0.0           0  ...           0           36   \n",
       "4          1950       600.0         224  ...           0            0   \n",
       "\n",
       "   EnclosedPorch  3SsnPorch  ScreenPorch  PoolArea  MiscVal  MoSold  YrSold  \\\n",
       "0              0          0            0         0        0       2    2010   \n",
       "1              0          0            0         0        0       6    2010   \n",
       "2              0          0            0         0        0       6    2009   \n",
       "3              0          0            0         0        0       5    2010   \n",
       "4              0          0          184         0        0       6    2007   \n",
       "\n",
       "   SalePrice  \n",
       "0     205000  \n",
       "1     178000  \n",
       "2     118964  \n",
       "3     198900  \n",
       "4     169500  \n",
       "\n",
       "[5 rows x 38 columns]"
      ]
     },
     "execution_count": 62,
     "metadata": {},
     "output_type": "execute_result"
    }
   ],
   "source": [
    "# Create a DataFrame 'nulls' to store the count of missing values for each column in the 'test' DataFrame\n",
    "# Sort the columns in descending order of missing values and display the top 20\n",
    "nulls = pd.DataFrame(test.isnull().sum().sort_values(ascending=False))[0:20]\n",
    "\n",
    "# Display the 'nulls' DataFrame to inspect the columns with the highest count of missing values\n",
    "nulls\n",
    "\n",
    "# Create a DataFrame 'test_data' containing only numeric columns from the 'test' DataFrame\n",
    "# Interpolate missing values and drop columns with remaining missing values\n",
    "test_data = test.select_dtypes(include=[np.number]).interpolate().dropna(axis=1)\n",
    "\n",
    "# Calculate the sum of columns with non-zero missing values in the 'test_data' DataFrame\n",
    "sum(test_data.isnull().sum()!=0)\n",
    "\n",
    "# Display the shape of the 'test_data' DataFrame to show the number of rows and columns after cleaning\n",
    "test_data.head()\n"
   ]
  },
  {
   "attachments": {},
   "cell_type": "markdown",
   "metadata": {},
   "source": [
    "**Test each Training Model with Test Data**"
   ]
  },
  {
   "attachments": {},
   "cell_type": "markdown",
   "metadata": {},
   "source": [
    "**Model 1**"
   ]
  },
  {
   "cell_type": "code",
   "execution_count": 69,
   "metadata": {},
   "outputs": [
    {
     "name": "stdout",
     "output_type": "stream",
     "text": [
      "R^2 is: 0.7483862926719741\n"
     ]
    }
   ],
   "source": [
    "# Create a new DataFrame 'X' containing the columns specified in 'cols' from the cleaned 'test_data'\n",
    "X = test_data[cols1]\n",
    "\n",
    "# Extract the 'SalePrice' column as the target variable 'Y' for testing data\n",
    "Y = X['SalePrice']\n",
    "\n",
    "# Drop the 'SalePrice' column from the 'X' DataFrame to form the feature variables for testing data\n",
    "X = X.drop(['SalePrice'], axis=1)\n",
    "\n",
    "# Use the trained linear regression model to make predictions on the feature variables 'X'\n",
    "predictions = model1.predict(X)\n",
    "\n",
    "# Display the R-squared value of the model's performance on the testing data\n",
    "print(f\"R^2 is: {model1.score(X, Y)}\")"
   ]
  },
  {
   "attachments": {},
   "cell_type": "markdown",
   "metadata": {},
   "source": [
    "**Model 2**"
   ]
  },
  {
   "cell_type": "code",
   "execution_count": 71,
   "metadata": {},
   "outputs": [
    {
     "name": "stdout",
     "output_type": "stream",
     "text": [
      "R^2 is: 0.7667085258179096\n"
     ]
    }
   ],
   "source": [
    "# Create a new DataFrame 'X' containing the columns specified in 'cols' from the cleaned 'test_data'\n",
    "X = test_data[cols2]\n",
    "\n",
    "# Extract the 'SalePrice' column as the target variable 'Y' for testing data\n",
    "Y = X['SalePrice']\n",
    "\n",
    "# Drop the 'SalePrice' column from the 'X' DataFrame to form the feature variables for testing data\n",
    "X = X.drop(['SalePrice'], axis=1)\n",
    "\n",
    "# Use the trained linear regression model to make predictions on the feature variables 'X'\n",
    "predictions = model2.predict(X)\n",
    "\n",
    "# Display the R-squared value of the model's performance on the testing data\n",
    "print(f\"R^2 is: {model2.score(X, Y)}\")"
   ]
  },
  {
   "attachments": {},
   "cell_type": "markdown",
   "metadata": {},
   "source": [
    "**Model 3**"
   ]
  },
  {
   "cell_type": "code",
   "execution_count": 73,
   "metadata": {},
   "outputs": [
    {
     "name": "stdout",
     "output_type": "stream",
     "text": [
      "R^2 is: 0.7493722119022505\n"
     ]
    }
   ],
   "source": [
    "# Create a new DataFrame 'X' containing the columns specified in 'cols' from the cleaned 'test_data'\n",
    "X = test_data[cols3]\n",
    "\n",
    "# Extract the 'SalePrice' column as the target variable 'Y' for testing data\n",
    "Y = X['SalePrice']\n",
    "\n",
    "# Drop the 'SalePrice' column from the 'X' DataFrame to form the feature variables for testing data\n",
    "X = X.drop(['SalePrice'], axis=1)\n",
    "\n",
    "# Use the trained linear regression model to make predictions on the feature variables 'X'\n",
    "predictions = model3.predict(X)\n",
    "\n",
    "# Display the R-squared value of the model's performance on the testing data\n",
    "print(f\"R^2 is: {model3.score(X, Y)}\")"
   ]
  },
  {
   "attachments": {},
   "cell_type": "markdown",
   "metadata": {},
   "source": [
    "After testing our models on the test data, we compile the outcomes obtained from both the training and test data into the following table:\n",
    "\n",
    "| model | # independent variables | R^2 training | R^2 test |\n",
    "|----------|----------|----------|----------|\n",
    "| model1 | 6 | 0.84 | 0.74 |\n",
    "| model2 | 12 | 0.85 | 0.76 |\n",
    "| model3 | 15 | 0.88 | 0.74 |\n"
   ]
  },
  {
   "attachments": {},
   "cell_type": "markdown",
   "metadata": {},
   "source": [
    "We can see that the observed results on the test data are somewhat lower compared to our previous findings. Interestingly, model2, despite having a slightly lower R-squared value compared to model3 during training, displayed better performance on the test data compared to both model1 and model3. This outcome highlights the importance of assessing a model's effectiveness on unseen data rather than relying solely on its R-squared value derived from the training data."
   ]
  },
  {
   "attachments": {},
   "cell_type": "markdown",
   "metadata": {},
   "source": [
    "[Back to top](#Index)\n",
    "\n",
    "## Conclusion <a class=“anchor” id=“Conclusion”></a>\n",
    "\n",
    "After our thorough analysis, we draw the following conclusions:\n",
    "\n",
    "**Model Performance**: Among the models tested, Model 2 emerged as the most effective in terms of results. Despite having a slightly lower R-squared value during training compared to Model 3, Model 2 exhibited superior performance on the test data. This highlights the significance of evaluating a model's predictive power on unseen data, emphasizing the importance of generalization.\n",
    "\n",
    "**Number of Independent Variables**: Introducing more independent variables, as demonstrated by Model 2, positively impacted its prediction accuracy. While including more variables can lead to better performance, it's essential to strike a balance to avoid overfitting.\n",
    "\n",
    "**Overfitting**: While Model 3 showcased a higher R-squared value during training, it didn't necessarily perform better on the test data. This raises the cautionary note of overfitting – a model may excel on training data but falter on new data. Model 2's success on test data indicates a better balance between model complexity and generalization.\n",
    "\n",
    "**Computational Power and Cost**: Incorporating additional variables in Model 2 enhances accuracy but may also increase computational requirements and costs. Careful consideration of available resources is crucial when deciding on the complexity of a model.\n",
    "\n",
    "**Data Analysis Techniques**: Creating the prediction model has underscored the importance of various data analysis techniques. We've learned the significance of exploring correlations, handling missing data, evaluating distribution shapes, and making informed decisions about feature selection. It's clear that a successful prediction model requires a deep understanding of the data and careful consideration of various factors.\n",
    "\n",
    "In summary, the approach of Model 2, which included a balanced selection of independent variables, exhibited the best overall results. This experience reinforces the notion that the efficacy of a model extends beyond training performance and emphasizes the critical nature of testing on unseen data."
   ]
  },
  {
   "attachments": {},
   "cell_type": "markdown",
   "metadata": {},
   "source": [
    "\n",
    "[Back to top](#Index\n",
    ")\n",
    "## References <a class=“anchor” id=“References”></a>\n",
    "\n",
    "- Theobald, Oliver. \"Machine Learning For Absolute Beginners: A Plain English Introduction (Second Edition)\". June 21, 2017: 60-63\n",
    "\n",
    "- Barai, Abhishek. \"Normal Distribution and Machine Learning.\" Medium. Nov 19, 2020. https://medium.com/analytics-vidhya/normal-distribution-and-machine-learning-ec9d3ca05070\n",
    "\n",
    "- Stojiljkovic, Mirko. \"Linear Regression in Python.\" Real Python. https://realpython.com/linear-regression-in-python/\n",
    "\n",
    "- Rajbangshi, Anju. \"Overfitting and Underfitting in Machine Learning\". Medium. Apr 22, 2020. https://medium.com/analytics-vidhya/overfitting-and-underfitting-in-machine-learning-d829d8501335\n"
   ]
  },
  {
   "attachments": {},
   "cell_type": "markdown",
   "metadata": {},
   "source": [
    "<div class=\"alert alert-block alert-info\">"
   ]
  }
 ],
 "metadata": {
  "kernelspec": {
   "display_name": "Python 3",
   "language": "python",
   "name": "python3"
  },
  "language_info": {
   "codemirror_mode": {
    "name": "ipython",
    "version": 3
   },
   "file_extension": ".py",
   "mimetype": "text/x-python",
   "name": "python",
   "nbconvert_exporter": "python",
   "pygments_lexer": "ipython3",
   "version": "3.9.16"
  }
 },
 "nbformat": 4,
 "nbformat_minor": 4
}
